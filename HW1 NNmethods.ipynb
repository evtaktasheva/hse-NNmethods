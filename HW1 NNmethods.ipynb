{
 "cells": [
  {
   "cell_type": "markdown",
   "metadata": {},
   "source": [
    "# HW1\n",
    "### Такташева Катя"
   ]
  },
  {
   "cell_type": "code",
   "execution_count": 1,
   "metadata": {},
   "outputs": [],
   "source": [
    "import matplotlib.pyplot as plt\n",
    "import numpy as np\n",
    "import pandas as pd\n",
    "import seaborn as sns\n",
    "import spacy\n",
    "import warnings\n",
    "\n",
    "from nltk.corpus import stopwords\n",
    "from scipy.stats import pearsonr, spearmanr \n",
    "from sklearn.ensemble import RandomForestClassifier, RandomForestRegressor\n",
    "from sklearn.exceptions import ConvergenceWarning\n",
    "from sklearn.feature_extraction.text import CountVectorizer, TfidfVectorizer\n",
    "from sklearn.linear_model import ElasticNet, LinearRegression, LogisticRegression\n",
    "from sklearn.metrics import classification_report, confusion_matrix, make_scorer, mean_squared_error, mean_absolute_error\n",
    "from sklearn.model_selection import GridSearchCV, train_test_split\n",
    "from sklearn.neighbors import KNeighborsClassifier\n",
    "from tqdm.auto import tqdm\n",
    "\n",
    "from warnings import filterwarnings\n",
    "filterwarnings('ignore')"
   ]
  },
  {
   "cell_type": "code",
   "execution_count": 208,
   "metadata": {},
   "outputs": [],
   "source": [
    "data = pd.read_csv('Shoes_Data.csv')"
   ]
  },
  {
   "cell_type": "code",
   "execution_count": 209,
   "metadata": {},
   "outputs": [
    {
     "data": {
      "text/html": [
       "<div>\n",
       "<style scoped>\n",
       "    .dataframe tbody tr th:only-of-type {\n",
       "        vertical-align: middle;\n",
       "    }\n",
       "\n",
       "    .dataframe tbody tr th {\n",
       "        vertical-align: top;\n",
       "    }\n",
       "\n",
       "    .dataframe thead th {\n",
       "        text-align: right;\n",
       "    }\n",
       "</style>\n",
       "<table border=\"1\" class=\"dataframe\">\n",
       "  <thead>\n",
       "    <tr style=\"text-align: right;\">\n",
       "      <th></th>\n",
       "      <th>title</th>\n",
       "      <th>price</th>\n",
       "      <th>rating</th>\n",
       "      <th>total_reviews</th>\n",
       "      <th>product_description</th>\n",
       "      <th>reviews</th>\n",
       "      <th>reviews_rating</th>\n",
       "      <th>Shoe Type</th>\n",
       "    </tr>\n",
       "  </thead>\n",
       "  <tbody>\n",
       "    <tr>\n",
       "      <th>0</th>\n",
       "      <td>CLYMB Outdoor Sports Running Shoes for Mens Boy</td>\n",
       "      <td>₹279.00</td>\n",
       "      <td>2.9 out of 5 stars</td>\n",
       "      <td>2389 ratings</td>\n",
       "      <td>Elevate your style with this classy pair of Ru...</td>\n",
       "      <td>Not happy with product|| It's not as expected....</td>\n",
       "      <td>1.0 out of 5 stars|| 1.0 out of 5 stars|| 3.0 ...</td>\n",
       "      <td>Men</td>\n",
       "    </tr>\n",
       "    <tr>\n",
       "      <th>1</th>\n",
       "      <td>Bourge Men's Loire-z126 Running Shoes</td>\n",
       "      <td>₹479.00</td>\n",
       "      <td>3.9 out of 5 stars</td>\n",
       "      <td>11520 ratings</td>\n",
       "      <td>The product will be an excellent pick for you....</td>\n",
       "      <td>Memory cushioning in these shoes is the best f...</td>\n",
       "      <td>5.0 out of 5 stars|| 1.0 out of 5 stars|| 5.0 ...</td>\n",
       "      <td>Men</td>\n",
       "    </tr>\n",
       "    <tr>\n",
       "      <th>2</th>\n",
       "      <td>T-Rock Men's Sneaker</td>\n",
       "      <td>₹430.00</td>\n",
       "      <td>3.3 out of 5 stars</td>\n",
       "      <td>1251 ratings</td>\n",
       "      <td>Flaunt with these stylish and unique red casua...</td>\n",
       "      <td>Worth to its amount|| Go for it|| Perfect|| 5 ...</td>\n",
       "      <td>5.0 out of 5 stars|| 5.0 out of 5 stars|| 5.0 ...</td>\n",
       "      <td>Men</td>\n",
       "    </tr>\n",
       "    <tr>\n",
       "      <th>3</th>\n",
       "      <td>Robbie jones Sneakers Casual Canvas Fabric Col...</td>\n",
       "      <td>₹499.00</td>\n",
       "      <td>4.2 out of 5 stars</td>\n",
       "      <td>3 ratings</td>\n",
       "      <td>Robbie Jones Shoes Are Designed To Keeping In ...</td>\n",
       "      <td>Sup quality|| Good but not expected|| Awesome 👌.!</td>\n",
       "      <td>5.0 out of 5 stars|| 3.0 out of 5 stars|| 5.0 ...</td>\n",
       "      <td>Men</td>\n",
       "    </tr>\n",
       "    <tr>\n",
       "      <th>4</th>\n",
       "      <td>Sparx Men's Sd0323g Sneakers</td>\n",
       "      <td>₹499.00</td>\n",
       "      <td>4.2 out of 5 stars</td>\n",
       "      <td>20110 ratings</td>\n",
       "      <td>Sparx is a spectacular range of footwear from ...</td>\n",
       "      <td>Best|| Satisfied!|| Affordable beauty 😘😘😘😘 the...</td>\n",
       "      <td>5.0 out of 5 stars|| 5.0 out of 5 stars|| 5.0 ...</td>\n",
       "      <td>Men</td>\n",
       "    </tr>\n",
       "    <tr>\n",
       "      <th>...</th>\n",
       "      <td>...</td>\n",
       "      <td>...</td>\n",
       "      <td>...</td>\n",
       "      <td>...</td>\n",
       "      <td>...</td>\n",
       "      <td>...</td>\n",
       "      <td>...</td>\n",
       "      <td>...</td>\n",
       "    </tr>\n",
       "    <tr>\n",
       "      <th>1225</th>\n",
       "      <td>Nike Men's React Vision Running Shoes</td>\n",
       "      <td>₹7256.00</td>\n",
       "      <td>4.4 out of 5 stars</td>\n",
       "      <td>200 ratings</td>\n",
       "      <td>The Nike react vision is a STORY of surreal co...</td>\n",
       "      <td>Must buy|| not have a great fiting but great q...</td>\n",
       "      <td>5.0 out of 5 stars|| 3.0 out of 5 stars|| 5.0 ...</td>\n",
       "      <td>Women</td>\n",
       "    </tr>\n",
       "    <tr>\n",
       "      <th>1226</th>\n",
       "      <td>Puma Men's B.O.G Limitless Hi Evoknit Sneakers</td>\n",
       "      <td>₹5822.00</td>\n",
       "      <td>4.3 out of 5 stars</td>\n",
       "      <td>25 ratings</td>\n",
       "      <td>The B.O.G limitless is Puma's key style for th...</td>\n",
       "      <td>Worth buying !|| Classy Bold and Stylish !!|| ...</td>\n",
       "      <td>4.0 out of 5 stars|| 5.0 out of 5 stars|| 3.0 ...</td>\n",
       "      <td>Women</td>\n",
       "    </tr>\n",
       "    <tr>\n",
       "      <th>1227</th>\n",
       "      <td>new balance Women's FuelCell Echolucent Runnin...</td>\n",
       "      <td>₹5362.00</td>\n",
       "      <td>4.5 out of 5 stars</td>\n",
       "      <td>817 ratings</td>\n",
       "      <td>Lead the pack in New Balance’s Echolucent snea...</td>\n",
       "      <td>size variation in product recd n size chart|| ...</td>\n",
       "      <td>5.0 out of 5 stars|| 5.0 out of 5 stars|| 5.0 ...</td>\n",
       "      <td>Women</td>\n",
       "    </tr>\n",
       "    <tr>\n",
       "      <th>1228</th>\n",
       "      <td>Nike Women's WMNS Air Zoom Pegasus 37 Running ...</td>\n",
       "      <td>₹7480.00</td>\n",
       "      <td>4.5 out of 5 stars</td>\n",
       "      <td>67 ratings</td>\n",
       "      <td>Nike మహిళల రన్నింగ్ షూ ఫీల్స్ మరియు రూపం మృదువ...</td>\n",
       "      <td>Verified Purchase|| Verified Purchase|| Verifi...</td>\n",
       "      <td>5.0 out of 5 stars|| 5.0 out of 5 stars|| 4.0 ...</td>\n",
       "      <td>Women</td>\n",
       "    </tr>\n",
       "    <tr>\n",
       "      <th>1229</th>\n",
       "      <td>ASICS Women Gt-2000 7 Lite-Show Running Shoes</td>\n",
       "      <td>₹5719.00</td>\n",
       "      <td>4.1 out of 5 stars</td>\n",
       "      <td>210 ratings</td>\n",
       "      <td>The GT-2000 7 achieves a reassuringly firm rid...</td>\n",
       "      <td>Great shoe|| excellent quality|| Old manufactu...</td>\n",
       "      <td>5.0 out of 5 stars|| 5.0 out of 5 stars|| 3.0 ...</td>\n",
       "      <td>Women</td>\n",
       "    </tr>\n",
       "  </tbody>\n",
       "</table>\n",
       "<p>1230 rows × 8 columns</p>\n",
       "</div>"
      ],
      "text/plain": [
       "                                                  title     price  \\\n",
       "0       CLYMB Outdoor Sports Running Shoes for Mens Boy   ₹279.00   \n",
       "1                 Bourge Men's Loire-z126 Running Shoes   ₹479.00   \n",
       "2                                  T-Rock Men's Sneaker   ₹430.00   \n",
       "3     Robbie jones Sneakers Casual Canvas Fabric Col...   ₹499.00   \n",
       "4                          Sparx Men's Sd0323g Sneakers   ₹499.00   \n",
       "...                                                 ...       ...   \n",
       "1225              Nike Men's React Vision Running Shoes  ₹7256.00   \n",
       "1226     Puma Men's B.O.G Limitless Hi Evoknit Sneakers  ₹5822.00   \n",
       "1227  new balance Women's FuelCell Echolucent Runnin...  ₹5362.00   \n",
       "1228  Nike Women's WMNS Air Zoom Pegasus 37 Running ...  ₹7480.00   \n",
       "1229      ASICS Women Gt-2000 7 Lite-Show Running Shoes  ₹5719.00   \n",
       "\n",
       "                  rating  total_reviews  \\\n",
       "0     2.9 out of 5 stars   2389 ratings   \n",
       "1     3.9 out of 5 stars  11520 ratings   \n",
       "2     3.3 out of 5 stars   1251 ratings   \n",
       "3     4.2 out of 5 stars      3 ratings   \n",
       "4     4.2 out of 5 stars  20110 ratings   \n",
       "...                  ...            ...   \n",
       "1225  4.4 out of 5 stars    200 ratings   \n",
       "1226  4.3 out of 5 stars     25 ratings   \n",
       "1227  4.5 out of 5 stars    817 ratings   \n",
       "1228  4.5 out of 5 stars     67 ratings   \n",
       "1229  4.1 out of 5 stars    210 ratings   \n",
       "\n",
       "                                    product_description  \\\n",
       "0     Elevate your style with this classy pair of Ru...   \n",
       "1     The product will be an excellent pick for you....   \n",
       "2     Flaunt with these stylish and unique red casua...   \n",
       "3     Robbie Jones Shoes Are Designed To Keeping In ...   \n",
       "4     Sparx is a spectacular range of footwear from ...   \n",
       "...                                                 ...   \n",
       "1225  The Nike react vision is a STORY of surreal co...   \n",
       "1226  The B.O.G limitless is Puma's key style for th...   \n",
       "1227  Lead the pack in New Balance’s Echolucent snea...   \n",
       "1228  Nike మహిళల రన్నింగ్ షూ ఫీల్స్ మరియు రూపం మృదువ...   \n",
       "1229  The GT-2000 7 achieves a reassuringly firm rid...   \n",
       "\n",
       "                                                reviews  \\\n",
       "0     Not happy with product|| It's not as expected....   \n",
       "1     Memory cushioning in these shoes is the best f...   \n",
       "2     Worth to its amount|| Go for it|| Perfect|| 5 ...   \n",
       "3     Sup quality|| Good but not expected|| Awesome 👌.!   \n",
       "4     Best|| Satisfied!|| Affordable beauty 😘😘😘😘 the...   \n",
       "...                                                 ...   \n",
       "1225  Must buy|| not have a great fiting but great q...   \n",
       "1226  Worth buying !|| Classy Bold and Stylish !!|| ...   \n",
       "1227  size variation in product recd n size chart|| ...   \n",
       "1228  Verified Purchase|| Verified Purchase|| Verifi...   \n",
       "1229  Great shoe|| excellent quality|| Old manufactu...   \n",
       "\n",
       "                                         reviews_rating Shoe Type  \n",
       "0     1.0 out of 5 stars|| 1.0 out of 5 stars|| 3.0 ...       Men  \n",
       "1     5.0 out of 5 stars|| 1.0 out of 5 stars|| 5.0 ...       Men  \n",
       "2     5.0 out of 5 stars|| 5.0 out of 5 stars|| 5.0 ...       Men  \n",
       "3     5.0 out of 5 stars|| 3.0 out of 5 stars|| 5.0 ...       Men  \n",
       "4     5.0 out of 5 stars|| 5.0 out of 5 stars|| 5.0 ...       Men  \n",
       "...                                                 ...       ...  \n",
       "1225  5.0 out of 5 stars|| 3.0 out of 5 stars|| 5.0 ...     Women  \n",
       "1226  4.0 out of 5 stars|| 5.0 out of 5 stars|| 3.0 ...     Women  \n",
       "1227  5.0 out of 5 stars|| 5.0 out of 5 stars|| 5.0 ...     Women  \n",
       "1228  5.0 out of 5 stars|| 5.0 out of 5 stars|| 4.0 ...     Women  \n",
       "1229  5.0 out of 5 stars|| 5.0 out of 5 stars|| 3.0 ...     Women  \n",
       "\n",
       "[1230 rows x 8 columns]"
      ]
     },
     "execution_count": 209,
     "metadata": {},
     "output_type": "execute_result"
    }
   ],
   "source": [
    "data"
   ]
  },
  {
   "cell_type": "markdown",
   "metadata": {},
   "source": [
    "# Задание 1: Предсказание цены по описанию товара\n",
    "\n",
    "### 0. Определение задачи\n",
    "Для начала определимся классификация это или регрессия: **регрессия**, т.к. ответ принадлежит множеству вещественных чисел.\n",
    "\n",
    "### 1. Исследуем данные\n",
    "\n",
    "**1.1** Посмотрим на данные в общем:"
   ]
  },
  {
   "cell_type": "code",
   "execution_count": 210,
   "metadata": {
    "scrolled": true
   },
   "outputs": [
    {
     "name": "stdout",
     "output_type": "stream",
     "text": [
      "<class 'pandas.core.frame.DataFrame'>\n",
      "RangeIndex: 1230 entries, 0 to 1229\n",
      "Data columns (total 8 columns):\n",
      " #   Column               Non-Null Count  Dtype \n",
      "---  ------               --------------  ----- \n",
      " 0   title                1230 non-null   object\n",
      " 1   price                1230 non-null   object\n",
      " 2   rating               1230 non-null   object\n",
      " 3   total_reviews        1230 non-null   object\n",
      " 4   product_description  1230 non-null   object\n",
      " 5   reviews              1230 non-null   object\n",
      " 6   reviews_rating       1230 non-null   object\n",
      " 7   Shoe Type            1230 non-null   object\n",
      "dtypes: object(8)\n",
      "memory usage: 77.0+ KB\n"
     ]
    }
   ],
   "source": [
    "data.info()"
   ]
  },
  {
   "cell_type": "markdown",
   "metadata": {},
   "source": [
    "Видим, что у нас пустых значений, все фичи не числовые"
   ]
  },
  {
   "cell_type": "markdown",
   "metadata": {},
   "source": [
    "**1.2** Проверим на наличие дублей и уберем"
   ]
  },
  {
   "cell_type": "code",
   "execution_count": 211,
   "metadata": {},
   "outputs": [
    {
     "data": {
      "text/plain": [
       "(1015, 8)"
      ]
     },
     "execution_count": 211,
     "metadata": {},
     "output_type": "execute_result"
    }
   ],
   "source": [
    "data.drop_duplicates(inplace=True, keep='first')\n",
    "data.shape"
   ]
  },
  {
   "cell_type": "markdown",
   "metadata": {},
   "source": [
    "**1.3** Приведем целевую переменную в числовое значение (уберем значок валюты) и посмотрим на ее распределение"
   ]
  },
  {
   "cell_type": "code",
   "execution_count": 212,
   "metadata": {},
   "outputs": [],
   "source": [
    "data.price = data.price.apply(lambda x: float(x[1:]))"
   ]
  },
  {
   "cell_type": "code",
   "execution_count": 213,
   "metadata": {},
   "outputs": [
    {
     "data": {
      "image/png": "[encoded data removed]",
      "text/plain": [
       "<Figure size 432x288 with 1 Axes>"
      ]
     },
     "metadata": {
      "needs_background": "light"
     },
     "output_type": "display_data"
    }
   ],
   "source": [
    "data.price.hist();"
   ]
  },
  {
   "cell_type": "markdown",
   "metadata": {},
   "source": [
    "Видим, что распределение довольно \"одностороннее\" - большинство объектов находится в ценовом диапазоне [0-3000]\n",
    "\n",
    "**1.4** Здесь конечно можно поисследовать зависимость целевой переменной от других признаков, например, `типа обуви` (может женская дороже мужской), `количества отзывов` (может чем  больше отзывов на товар, тем он лучше? хуже?) и т.д. но поскольку **мы делаем предсказание по описанию товара**, это кажется бессмысленным на данном этапе. \n",
    "\n",
    "Поэтому **посмотрим на какие-то более странные и абстрактные зависимости**: например, может быть `длина описания` влияет на цену? (может чем длиннее описание, тем оно более продуманно и соотвенственно товар более качественный? или наоборот, тут вспомним описания на китайских сайтах :) )"
   ]
  },
  {
   "cell_type": "code",
   "execution_count": 214,
   "metadata": {},
   "outputs": [
    {
     "data": {
      "image/png": "[encoded data removed]",
      "text/plain": [
       "<Figure size 432x288 with 1 Axes>"
      ]
     },
     "metadata": {
      "needs_background": "light"
     },
     "output_type": "display_data"
    }
   ],
   "source": [
    "plt.scatter(data.product_description.apply(lambda x: len(x.split())), data.price)\n",
    "plt.title('Price depending on the product description length')\n",
    "plt.ylabel('Price')\n",
    "plt.xlabel('Num. characters');"
   ]
  },
  {
   "cell_type": "code",
   "execution_count": 215,
   "metadata": {},
   "outputs": [
    {
     "name": "stdout",
     "output_type": "stream",
     "text": [
      "Pearson correlation: 0.16912848482755533\n",
      "Spearman correlation: 0.049392140005639004\n"
     ]
    }
   ],
   "source": [
    "print('Pearson correlation:', pearsonr(data.product_description.apply(lambda x: len(x.split())),\n",
    "                                       data.price)[0])\n",
    "print('Spearman correlation:', spearmanr(data.product_description.apply(lambda x: len(x.split())),\n",
    "                                         data.price).correlation)"
   ]
  },
  {
   "cell_type": "markdown",
   "metadata": {},
   "source": [
    "Аналогично посмотрим на название:"
   ]
  },
  {
   "cell_type": "code",
   "execution_count": 216,
   "metadata": {},
   "outputs": [
    {
     "data": {
      "image/png": "[encoded data removed]",
      "text/plain": [
       "<Figure size 432x288 with 1 Axes>"
      ]
     },
     "metadata": {
      "needs_background": "light"
     },
     "output_type": "display_data"
    }
   ],
   "source": [
    "plt.scatter(data.title.apply(lambda x: len(x.split())), data.price)\n",
    "plt.title('Price depending on the title length')\n",
    "plt.ylabel('Price')\n",
    "plt.xlabel('Num. characters');"
   ]
  },
  {
   "cell_type": "code",
   "execution_count": 217,
   "metadata": {},
   "outputs": [
    {
     "name": "stdout",
     "output_type": "stream",
     "text": [
      "Pearson correlation: -0.026798230858848783\n",
      "Spearman correlation: 0.10345725889648019\n"
     ]
    }
   ],
   "source": [
    "print('Pearson correlation:', pearsonr(data.title.apply(lambda x: len(x.split())),\n",
    "                                       data.price)[0])\n",
    "print('Spearman correlation:', spearmanr(data.title.apply(lambda x: len(x.split())),\n",
    "                                         data.price).correlation)"
   ]
  },
  {
   "cell_type": "markdown",
   "metadata": {},
   "source": [
    "Как видим, никаких корреляций не наблюдается, что ожидаемо, так что пойдем дальше"
   ]
  },
  {
   "cell_type": "markdown",
   "metadata": {},
   "source": [
    "**1.5** Удалим ненужные нам столбцы данных"
   ]
  },
  {
   "cell_type": "code",
   "execution_count": 218,
   "metadata": {},
   "outputs": [],
   "source": [
    "data.drop(columns=['rating', 'total_reviews', 'reviews_rating', 'reviews', 'Shoe Type'], inplace=True)"
   ]
  },
  {
   "cell_type": "markdown",
   "metadata": {},
   "source": [
    "**1.6** Теперь объединим все текстовые признаки в одну длинную строку, чтобы нам было удобно с ними работать:"
   ]
  },
  {
   "cell_type": "code",
   "execution_count": 219,
   "metadata": {},
   "outputs": [],
   "source": [
    "data['text'] = data['title'] + ' ' + data['product_description'] "
   ]
  },
  {
   "cell_type": "code",
   "execution_count": 220,
   "metadata": {},
   "outputs": [
    {
     "data": {
      "text/html": [
       "<div>\n",
       "<style scoped>\n",
       "    .dataframe tbody tr th:only-of-type {\n",
       "        vertical-align: middle;\n",
       "    }\n",
       "\n",
       "    .dataframe tbody tr th {\n",
       "        vertical-align: top;\n",
       "    }\n",
       "\n",
       "    .dataframe thead th {\n",
       "        text-align: right;\n",
       "    }\n",
       "</style>\n",
       "<table border=\"1\" class=\"dataframe\">\n",
       "  <thead>\n",
       "    <tr style=\"text-align: right;\">\n",
       "      <th></th>\n",
       "      <th>title</th>\n",
       "      <th>price</th>\n",
       "      <th>product_description</th>\n",
       "      <th>text</th>\n",
       "    </tr>\n",
       "  </thead>\n",
       "  <tbody>\n",
       "    <tr>\n",
       "      <th>0</th>\n",
       "      <td>CLYMB Outdoor Sports Running Shoes for Mens Boy</td>\n",
       "      <td>279.0</td>\n",
       "      <td>Elevate your style with this classy pair of Ru...</td>\n",
       "      <td>CLYMB Outdoor Sports Running Shoes for Mens Bo...</td>\n",
       "    </tr>\n",
       "    <tr>\n",
       "      <th>1</th>\n",
       "      <td>Bourge Men's Loire-z126 Running Shoes</td>\n",
       "      <td>479.0</td>\n",
       "      <td>The product will be an excellent pick for you....</td>\n",
       "      <td>Bourge Men's Loire-z126 Running Shoes The prod...</td>\n",
       "    </tr>\n",
       "    <tr>\n",
       "      <th>2</th>\n",
       "      <td>T-Rock Men's Sneaker</td>\n",
       "      <td>430.0</td>\n",
       "      <td>Flaunt with these stylish and unique red casua...</td>\n",
       "      <td>T-Rock Men's Sneaker Flaunt with these stylish...</td>\n",
       "    </tr>\n",
       "    <tr>\n",
       "      <th>3</th>\n",
       "      <td>Robbie jones Sneakers Casual Canvas Fabric Col...</td>\n",
       "      <td>499.0</td>\n",
       "      <td>Robbie Jones Shoes Are Designed To Keeping In ...</td>\n",
       "      <td>Robbie jones Sneakers Casual Canvas Fabric Col...</td>\n",
       "    </tr>\n",
       "    <tr>\n",
       "      <th>4</th>\n",
       "      <td>Sparx Men's Sd0323g Sneakers</td>\n",
       "      <td>499.0</td>\n",
       "      <td>Sparx is a spectacular range of footwear from ...</td>\n",
       "      <td>Sparx Men's Sd0323g Sneakers Sparx is a specta...</td>\n",
       "    </tr>\n",
       "    <tr>\n",
       "      <th>...</th>\n",
       "      <td>...</td>\n",
       "      <td>...</td>\n",
       "      <td>...</td>\n",
       "      <td>...</td>\n",
       "    </tr>\n",
       "    <tr>\n",
       "      <th>1193</th>\n",
       "      <td>Nike Men's React Vision Running Shoes</td>\n",
       "      <td>7256.0</td>\n",
       "      <td>The Nike react vision is a STORY of surreal co...</td>\n",
       "      <td>Nike Men's React Vision Running Shoes The Nike...</td>\n",
       "    </tr>\n",
       "    <tr>\n",
       "      <th>1194</th>\n",
       "      <td>Puma Men's B.O.G Limitless Hi Evoknit Sneakers</td>\n",
       "      <td>5822.0</td>\n",
       "      <td>The B.O.G limitless is Puma's key style for th...</td>\n",
       "      <td>Puma Men's B.O.G Limitless Hi Evoknit Sneakers...</td>\n",
       "    </tr>\n",
       "    <tr>\n",
       "      <th>1195</th>\n",
       "      <td>new balance Women's FuelCell Echolucent Runnin...</td>\n",
       "      <td>5362.0</td>\n",
       "      <td>Lead the pack in New Balance’s Echolucent snea...</td>\n",
       "      <td>new balance Women's FuelCell Echolucent Runnin...</td>\n",
       "    </tr>\n",
       "    <tr>\n",
       "      <th>1196</th>\n",
       "      <td>Nike Women's WMNS Air Zoom Pegasus 37 Running ...</td>\n",
       "      <td>7480.0</td>\n",
       "      <td>Nike మహిళల రన్నింగ్ షూ ఫీల్స్ మరియు రూపం మృదువ...</td>\n",
       "      <td>Nike Women's WMNS Air Zoom Pegasus 37 Running ...</td>\n",
       "    </tr>\n",
       "    <tr>\n",
       "      <th>1197</th>\n",
       "      <td>ASICS Women Gt-2000 7 Lite-Show Running Shoes</td>\n",
       "      <td>5719.0</td>\n",
       "      <td>The GT-2000 7 achieves a reassuringly firm rid...</td>\n",
       "      <td>ASICS Women Gt-2000 7 Lite-Show Running Shoes ...</td>\n",
       "    </tr>\n",
       "  </tbody>\n",
       "</table>\n",
       "<p>1015 rows × 4 columns</p>\n",
       "</div>"
      ],
      "text/plain": [
       "                                                  title   price  \\\n",
       "0       CLYMB Outdoor Sports Running Shoes for Mens Boy   279.0   \n",
       "1                 Bourge Men's Loire-z126 Running Shoes   479.0   \n",
       "2                                  T-Rock Men's Sneaker   430.0   \n",
       "3     Robbie jones Sneakers Casual Canvas Fabric Col...   499.0   \n",
       "4                          Sparx Men's Sd0323g Sneakers   499.0   \n",
       "...                                                 ...     ...   \n",
       "1193              Nike Men's React Vision Running Shoes  7256.0   \n",
       "1194     Puma Men's B.O.G Limitless Hi Evoknit Sneakers  5822.0   \n",
       "1195  new balance Women's FuelCell Echolucent Runnin...  5362.0   \n",
       "1196  Nike Women's WMNS Air Zoom Pegasus 37 Running ...  7480.0   \n",
       "1197      ASICS Women Gt-2000 7 Lite-Show Running Shoes  5719.0   \n",
       "\n",
       "                                    product_description  \\\n",
       "0     Elevate your style with this classy pair of Ru...   \n",
       "1     The product will be an excellent pick for you....   \n",
       "2     Flaunt with these stylish and unique red casua...   \n",
       "3     Robbie Jones Shoes Are Designed To Keeping In ...   \n",
       "4     Sparx is a spectacular range of footwear from ...   \n",
       "...                                                 ...   \n",
       "1193  The Nike react vision is a STORY of surreal co...   \n",
       "1194  The B.O.G limitless is Puma's key style for th...   \n",
       "1195  Lead the pack in New Balance’s Echolucent snea...   \n",
       "1196  Nike మహిళల రన్నింగ్ షూ ఫీల్స్ మరియు రూపం మృదువ...   \n",
       "1197  The GT-2000 7 achieves a reassuringly firm rid...   \n",
       "\n",
       "                                                   text  \n",
       "0     CLYMB Outdoor Sports Running Shoes for Mens Bo...  \n",
       "1     Bourge Men's Loire-z126 Running Shoes The prod...  \n",
       "2     T-Rock Men's Sneaker Flaunt with these stylish...  \n",
       "3     Robbie jones Sneakers Casual Canvas Fabric Col...  \n",
       "4     Sparx Men's Sd0323g Sneakers Sparx is a specta...  \n",
       "...                                                 ...  \n",
       "1193  Nike Men's React Vision Running Shoes The Nike...  \n",
       "1194  Puma Men's B.O.G Limitless Hi Evoknit Sneakers...  \n",
       "1195  new balance Women's FuelCell Echolucent Runnin...  \n",
       "1196  Nike Women's WMNS Air Zoom Pegasus 37 Running ...  \n",
       "1197  ASICS Women Gt-2000 7 Lite-Show Running Shoes ...  \n",
       "\n",
       "[1015 rows x 4 columns]"
      ]
     },
     "execution_count": 220,
     "metadata": {},
     "output_type": "execute_result"
    }
   ],
   "source": [
    "data"
   ]
  },
  {
   "cell_type": "markdown",
   "metadata": {},
   "source": [
    "### 2. Препроцессинг данных"
   ]
  },
  {
   "cell_type": "code",
   "execution_count": 221,
   "metadata": {},
   "outputs": [],
   "source": [
    "#!python -m spacy download en_core_web_sm"
   ]
  },
  {
   "cell_type": "code",
   "execution_count": 222,
   "metadata": {},
   "outputs": [],
   "source": [
    "nlp = spacy.load('en_core_web_sm')\n",
    "# оставим отрицания, т.к. они будут полезны для оценки ревью\n",
    "STOPWORDS = set([word for word in stopwords.words('english') if (\"n't\" not in word and\n",
    "                                                                 word not in ['no', 'not'])])"
   ]
  },
  {
   "cell_type": "code",
   "execution_count": 223,
   "metadata": {},
   "outputs": [],
   "source": [
    "#!pip install --quiet alphabet-detector"
   ]
  },
  {
   "cell_type": "code",
   "execution_count": 224,
   "metadata": {},
   "outputs": [],
   "source": [
    "from alphabet_detector import AlphabetDetector\n",
    "ad = AlphabetDetector()"
   ]
  },
  {
   "cell_type": "markdown",
   "metadata": {},
   "source": [
    "**Что делаем:**\n",
    "- токенизируем\n",
    "- лемматизируем (очевидно, нам не нужно учитывать все возможные формы оного слова, потому что наши модели все равно не учитывают контекст)\n",
    "- приведем к нижнему регистру (по той же причине в принципе, в целом можно оставить и cased версию, но мне не кажется, что это улучшит/ухудшит результаты)\n",
    "- уберем стопслова\n",
    "- уберем неподходящие символы: числа, пунктуацию (т.к. наши модели опираются на частотности, то их извлечение не испортит ничего, а наоборот избавит от большого количества лищних данных)\n",
    "- уберем не латинские символы (они странные и ненужные)"
   ]
  },
  {
   "cell_type": "code",
   "execution_count": 225,
   "metadata": {},
   "outputs": [],
   "source": [
    "def lemmatize(text: str) -> str:\n",
    "    \"\"\"\n",
    "    Tokenize and lemmatize text data,\n",
    "    delete stopwords and non-alphabetical characters\n",
    "    :param text: text to lemmatize\n",
    "    :param model: tokenizer + lemmatizer model\n",
    "    :return: lemmatized text\n",
    "    \"\"\"\n",
    "    text = text.lower()\n",
    "    text = [word.lemma_ for word in nlp(text) if (ad.is_latin(word.lemma_) and\n",
    "                                                  word.lemma_.isalpha() and\n",
    "                                                  word.lemma_ not in STOPWORDS)]\n",
    "    return ' '.join(text)\n"
   ]
  },
  {
   "cell_type": "code",
   "execution_count": 226,
   "metadata": {},
   "outputs": [
    {
     "data": {
      "application/vnd.jupyter.widget-view+json": {
       "model_id": "0cad8aefdb5c42489289add0bc1824ed",
       "version_major": 2,
       "version_minor": 0
      },
      "text/plain": [
       "HBox(children=(FloatProgress(value=0.0, max=1015.0), HTML(value='')))"
      ]
     },
     "metadata": {},
     "output_type": "display_data"
    },
    {
     "name": "stdout",
     "output_type": "stream",
     "text": [
      "\n"
     ]
    }
   ],
   "source": [
    "tqdm.pandas()\n",
    "data['lemmatized'] = data['text'].progress_apply(lemmatize)"
   ]
  },
  {
   "cell_type": "code",
   "execution_count": 227,
   "metadata": {},
   "outputs": [
    {
     "data": {
      "text/plain": [
       "\"Bourge Men's Loire-z126 Running Shoes The product will be an excellent pick for you. It ensures an easy maintenance.\""
      ]
     },
     "execution_count": 227,
     "metadata": {},
     "output_type": "execute_result"
    }
   ],
   "source": [
    "data['text'][1]"
   ]
  },
  {
   "cell_type": "code",
   "execution_count": 228,
   "metadata": {},
   "outputs": [
    {
     "data": {
      "text/plain": [
       "'bourge man loire running shoe product excellent pick ensure easy maintenance'"
      ]
     },
     "execution_count": 228,
     "metadata": {},
     "output_type": "execute_result"
    }
   ],
   "source": [
    "data['lemmatized'][1]"
   ]
  },
  {
   "cell_type": "markdown",
   "metadata": {},
   "source": [
    "### 3. Векторизация\n",
    "#### 3.1 BoW"
   ]
  },
  {
   "cell_type": "code",
   "execution_count": 229,
   "metadata": {},
   "outputs": [],
   "source": [
    "cv = CountVectorizer()\n",
    "bow_features = cv.fit_transform(data['lemmatized']).toarray()"
   ]
  },
  {
   "cell_type": "markdown",
   "metadata": {},
   "source": [
    "#### 3.2 TF-IDF"
   ]
  },
  {
   "cell_type": "code",
   "execution_count": 230,
   "metadata": {},
   "outputs": [],
   "source": [
    "tfidf = TfidfVectorizer()\n",
    "tfidf_features = tfidf.fit_transform(data['lemmatized']).toarray()"
   ]
  },
  {
   "cell_type": "markdown",
   "metadata": {},
   "source": [
    "### 4.  Подбор параметров\n",
    "#### 4.1 BoW"
   ]
  },
  {
   "cell_type": "code",
   "execution_count": 231,
   "metadata": {},
   "outputs": [],
   "source": [
    "X_train, X_test, y_train, y_test = train_test_split(bow_features, data['price'].values,\n",
    "                                                    test_size=0.2, random_state=42)"
   ]
  },
  {
   "cell_type": "markdown",
   "metadata": {},
   "source": [
    "#### 4.1.1 LinearRegression\n",
    "Тут особо нет параметров, так что просто сделаем предсказание, как своеобразную точку отсчета"
   ]
  },
  {
   "cell_type": "code",
   "execution_count": 232,
   "metadata": {},
   "outputs": [],
   "source": [
    "def scores(true: np.array, pred: np.array):\n",
    "    print('MSE:', mean_squared_error(true, pred))\n",
    "    print('MAE:', mean_absolute_error(true, pred))\n",
    "    print('RMSE:', mean_squared_error(true, pred, squared=False))"
   ]
  },
  {
   "cell_type": "code",
   "execution_count": 233,
   "metadata": {},
   "outputs": [
    {
     "name": "stdout",
     "output_type": "stream",
     "text": [
      "MSE: 1.3505968391346267e+30\n",
      "MAE: 656259561924050.4\n",
      "RMSE: 1162151814151071.5\n"
     ]
    }
   ],
   "source": [
    "lr = LinearRegression()\n",
    "lr.fit(X_train, y_train)\n",
    "scores(y_test, lr.predict(X_test))"
   ]
  },
  {
   "cell_type": "markdown",
   "metadata": {},
   "source": [
    "как видим, простая модель совсем не справляется с данными"
   ]
  },
  {
   "cell_type": "markdown",
   "metadata": {},
   "source": [
    "#### 4.1.2 ElasticNet"
   ]
  },
  {
   "cell_type": "code",
   "execution_count": 491,
   "metadata": {
    "scrolled": false
   },
   "outputs": [],
   "source": [
    "en = ElasticNet()\n",
    "gs = GridSearchCV(en,\n",
    "                  param_grid = {\n",
    "                     'alpha': np.arange(0, 1.2, 0.2),\n",
    "                     'l1_ratio': np.arange(0, 1.2, 0.2),\n",
    "                 },\n",
    "                 scoring=make_scorer(mean_squared_error, greater_is_better=False))\n",
    "elastic = gs.fit(X_train, y_train)"
   ]
  },
  {
   "cell_type": "code",
   "execution_count": 492,
   "metadata": {},
   "outputs": [
    {
     "name": "stdout",
     "output_type": "stream",
     "text": [
      "MSE: 1429609.1846327628\n",
      "MAE: 771.6599845459184\n",
      "RMSE: 1195.6626550297383\n"
     ]
    }
   ],
   "source": [
    "scores(y_test, elastic.predict(X_test))"
   ]
  },
  {
   "cell_type": "markdown",
   "metadata": {},
   "source": [
    "Здесь результаты получше, давайте посмотрим на среднее значение таргета, чтобы понять приемлемость такой ошибки:"
   ]
  },
  {
   "cell_type": "code",
   "execution_count": 234,
   "metadata": {},
   "outputs": [
    {
     "data": {
      "text/plain": [
       "1752.621921182266"
      ]
     },
     "execution_count": 234,
     "metadata": {},
     "output_type": "execute_result"
    }
   ],
   "source": [
    "y_test.mean()"
   ]
  },
  {
   "cell_type": "markdown",
   "metadata": {},
   "source": [
    "Будем смотреть на MAE (т.к. это по сути наши \"чистые значение\", без степени и тд, а значит лучше представляют наши потери).\n",
    "\n",
    "Видим, что MAE получилась на 66% меньше среднего значения таргета, что хорошо (потому что не больше, ура), но все еще довольно много. Тем не менее, если посмотреть на данные, то они 1) маленького размера (всего около 1000 примеров), что усложняет обучение; 2) довольно нелинейные, что значит, что идеального решения простой линейной моделью вряд ли получится добиться\n",
    "\n",
    "Посмотрим на данные:"
   ]
  },
  {
   "cell_type": "code",
   "execution_count": 51,
   "metadata": {},
   "outputs": [],
   "source": [
    "from sklearn.decomposition import PCA\n",
    "\n",
    "pca = PCA(n_components=2)\n",
    "X_pca = pca.fit_transform(bow_features)"
   ]
  },
  {
   "cell_type": "code",
   "execution_count": 55,
   "metadata": {},
   "outputs": [
    {
     "data": {
      "image/png": "[encoded data removed]",
      "text/plain": [
       "<Figure size 432x288 with 1 Axes>"
      ]
     },
     "metadata": {
      "needs_background": "light"
     },
     "output_type": "display_data"
    }
   ],
   "source": [
    "plt.scatter(X_pca[:,0], X_pca[:,1])\n",
    "plt.title('Feature distribution in 2-dim space');"
   ]
  },
  {
   "cell_type": "markdown",
   "metadata": {},
   "source": [
    "####  4.1.3  RandomForest"
   ]
  },
  {
   "cell_type": "code",
   "execution_count": 56,
   "metadata": {},
   "outputs": [],
   "source": [
    "rf = RandomForestRegressor()\n",
    "gs = GridSearchCV(rf,\n",
    "                  param_grid = {\n",
    "                      'n_estimators': range(50, 210, 50),\n",
    "                      'max_depth': range(100, 1100, 300),                      \n",
    "                  },\n",
    "                 scoring=make_scorer(mean_squared_error, greater_is_better=False))\n",
    "forest = gs.fit(X_train, y_train)"
   ]
  },
  {
   "cell_type": "code",
   "execution_count": 57,
   "metadata": {},
   "outputs": [
    {
     "name": "stdout",
     "output_type": "stream",
     "text": [
      "MSE: 1417043.902772216\n",
      "MAE: 669.5862406831629\n",
      "RMSE: 1190.3965317373097\n"
     ]
    }
   ],
   "source": [
    "scores(y_test, forest.predict(X_test))"
   ]
  },
  {
   "cell_type": "markdown",
   "metadata": {},
   "source": [
    "Случайный лес, ожидаемо, справляется лучше, чем все предыдущие модели, поскольку нелинеен, но тем не менее, данных слишком мало и такое кодировние признаков, как BoW, не помогает, т.к. у нас много пустых значений и вектора несут довольно мало информации, поэтому качество все еще довольно плохое\n",
    "\n"
   ]
  },
  {
   "cell_type": "markdown",
   "metadata": {},
   "source": [
    "#### 4.2 TFIDF\n",
    "\n",
    "Проделаем все то же самое"
   ]
  },
  {
   "cell_type": "code",
   "execution_count": 59,
   "metadata": {},
   "outputs": [],
   "source": [
    "X_train, X_test, y_train, y_test = train_test_split(tfidf_features, data['price'].values,\n",
    "                                                    test_size=0.2, random_state=42)"
   ]
  },
  {
   "cell_type": "markdown",
   "metadata": {},
   "source": [
    "Посмотрим на распределение:"
   ]
  },
  {
   "cell_type": "code",
   "execution_count": 66,
   "metadata": {},
   "outputs": [],
   "source": [
    "pca = PCA(n_components=2)\n",
    "X_pca = pca.fit_transform(tfidf_features)"
   ]
  },
  {
   "cell_type": "code",
   "execution_count": 68,
   "metadata": {},
   "outputs": [
    {
     "data": {
      "image/png": "[encoded data removed]",
      "text/plain": [
       "<Figure size 432x288 with 1 Axes>"
      ]
     },
     "metadata": {
      "needs_background": "light"
     },
     "output_type": "display_data"
    }
   ],
   "source": [
    "plt.scatter(X_pca[:,0], X_pca[:,1])\n",
    "plt.title('Feature distribution in 2-dim space');"
   ]
  },
  {
   "cell_type": "markdown",
   "metadata": {},
   "source": [
    "**4.2.1 Linear Regression**"
   ]
  },
  {
   "cell_type": "code",
   "execution_count": 60,
   "metadata": {},
   "outputs": [
    {
     "name": "stdout",
     "output_type": "stream",
     "text": [
      "MSE: 2.366974052200052e+28\n",
      "MAE: 100345625808954.48\n",
      "RMSE: 153849733577931.56\n"
     ]
    }
   ],
   "source": [
    "lr = LinearRegression()\n",
    "lr.fit(X_train, y_train)\n",
    "scores(y_test, lr.predict(X_test))"
   ]
  },
  {
   "cell_type": "markdown",
   "metadata": {},
   "source": [
    "**4.2.2 ElasticNet** "
   ]
  },
  {
   "cell_type": "code",
   "execution_count": 62,
   "metadata": {},
   "outputs": [],
   "source": [
    "en = ElasticNet()\n",
    "gs = GridSearchCV(en,\n",
    "                  param_grid = {\n",
    "                     'alpha': np.arange(0, 1.2, 0.2),\n",
    "                     'l1_ratio': np.arange(0, 1.2, 0.2)\n",
    "                 })\n",
    "elastic = gs.fit(X_train, y_train)"
   ]
  },
  {
   "cell_type": "code",
   "execution_count": 63,
   "metadata": {},
   "outputs": [
    {
     "name": "stdout",
     "output_type": "stream",
     "text": [
      "MSE: 1477937.4520932012\n",
      "MAE: 758.3802027719054\n",
      "RMSE: 1215.7045085435857\n"
     ]
    }
   ],
   "source": [
    "scores(y_test, elastic.predict(X_test))"
   ]
  },
  {
   "cell_type": "markdown",
   "metadata": {},
   "source": [
    "####  4.1.3  RandomForest"
   ]
  },
  {
   "cell_type": "code",
   "execution_count": 64,
   "metadata": {},
   "outputs": [],
   "source": [
    "rf = RandomForestRegressor()\n",
    "gs = GridSearchCV(rf,\n",
    "                  param_grid = {\n",
    "                      'n_estimators': range(50, 210, 50),\n",
    "                      'max_depth': range(100, 1100, 300),                      \n",
    "                  })\n",
    "forest = gs.fit(X_train, y_train)"
   ]
  },
  {
   "cell_type": "code",
   "execution_count": 65,
   "metadata": {},
   "outputs": [
    {
     "name": "stdout",
     "output_type": "stream",
     "text": [
      "MSE: 1646304.4305191298\n",
      "MAE: 726.2425081151653\n",
      "RMSE: 1283.0839530284563\n"
     ]
    }
   ],
   "source": [
    "scores(y_test, forest.predict(X_test))"
   ]
  },
  {
   "cell_type": "markdown",
   "metadata": {},
   "source": [
    "Как видим, все тренды сохраняются: лучше всего себя показал Random Forest, хуже всего с задачей справляется простая линейная регрессия, что логично.\n",
    "\n",
    "Если сравнивать признаки из BoW и TF-IDF, то лучшие результаты достигаются на признаках, извлеченных при помощи TF-IDF, что тоже ожидаемо, поскольку TF-IDF хранит больше информации о словах, выделяя более и менее важные их них."
   ]
  },
  {
   "cell_type": "markdown",
   "metadata": {},
   "source": [
    "# Задание 2: Предсказание оценки товара пользователем по его отзыву\n",
    "\n",
    "### 0. Определение задачи\n",
    "Для начала определимся классификация это или регрессия: **классификация**, т.к. ответ принадлежит конечному множеству чисел (хотя можно и регрессию)\n",
    "### 1. Исследуем данные\n",
    "\n",
    "**1.1** Посмотрим на данные в общем:"
   ]
  },
  {
   "cell_type": "code",
   "execution_count": 142,
   "metadata": {},
   "outputs": [],
   "source": [
    "data = pd.read_csv('Shoes_Data.csv')"
   ]
  },
  {
   "cell_type": "code",
   "execution_count": 143,
   "metadata": {},
   "outputs": [
    {
     "data": {
      "text/html": [
       "<div>\n",
       "<style scoped>\n",
       "    .dataframe tbody tr th:only-of-type {\n",
       "        vertical-align: middle;\n",
       "    }\n",
       "\n",
       "    .dataframe tbody tr th {\n",
       "        vertical-align: top;\n",
       "    }\n",
       "\n",
       "    .dataframe thead th {\n",
       "        text-align: right;\n",
       "    }\n",
       "</style>\n",
       "<table border=\"1\" class=\"dataframe\">\n",
       "  <thead>\n",
       "    <tr style=\"text-align: right;\">\n",
       "      <th></th>\n",
       "      <th>title</th>\n",
       "      <th>price</th>\n",
       "      <th>rating</th>\n",
       "      <th>total_reviews</th>\n",
       "      <th>product_description</th>\n",
       "      <th>reviews</th>\n",
       "      <th>reviews_rating</th>\n",
       "      <th>Shoe Type</th>\n",
       "    </tr>\n",
       "  </thead>\n",
       "  <tbody>\n",
       "    <tr>\n",
       "      <th>0</th>\n",
       "      <td>CLYMB Outdoor Sports Running Shoes for Mens Boy</td>\n",
       "      <td>₹279.00</td>\n",
       "      <td>2.9 out of 5 stars</td>\n",
       "      <td>2389 ratings</td>\n",
       "      <td>Elevate your style with this classy pair of Ru...</td>\n",
       "      <td>Not happy with product|| It's not as expected....</td>\n",
       "      <td>1.0 out of 5 stars|| 1.0 out of 5 stars|| 3.0 ...</td>\n",
       "      <td>Men</td>\n",
       "    </tr>\n",
       "    <tr>\n",
       "      <th>1</th>\n",
       "      <td>Bourge Men's Loire-z126 Running Shoes</td>\n",
       "      <td>₹479.00</td>\n",
       "      <td>3.9 out of 5 stars</td>\n",
       "      <td>11520 ratings</td>\n",
       "      <td>The product will be an excellent pick for you....</td>\n",
       "      <td>Memory cushioning in these shoes is the best f...</td>\n",
       "      <td>5.0 out of 5 stars|| 1.0 out of 5 stars|| 5.0 ...</td>\n",
       "      <td>Men</td>\n",
       "    </tr>\n",
       "    <tr>\n",
       "      <th>2</th>\n",
       "      <td>T-Rock Men's Sneaker</td>\n",
       "      <td>₹430.00</td>\n",
       "      <td>3.3 out of 5 stars</td>\n",
       "      <td>1251 ratings</td>\n",
       "      <td>Flaunt with these stylish and unique red casua...</td>\n",
       "      <td>Worth to its amount|| Go for it|| Perfect|| 5 ...</td>\n",
       "      <td>5.0 out of 5 stars|| 5.0 out of 5 stars|| 5.0 ...</td>\n",
       "      <td>Men</td>\n",
       "    </tr>\n",
       "    <tr>\n",
       "      <th>3</th>\n",
       "      <td>Robbie jones Sneakers Casual Canvas Fabric Col...</td>\n",
       "      <td>₹499.00</td>\n",
       "      <td>4.2 out of 5 stars</td>\n",
       "      <td>3 ratings</td>\n",
       "      <td>Robbie Jones Shoes Are Designed To Keeping In ...</td>\n",
       "      <td>Sup quality|| Good but not expected|| Awesome 👌.!</td>\n",
       "      <td>5.0 out of 5 stars|| 3.0 out of 5 stars|| 5.0 ...</td>\n",
       "      <td>Men</td>\n",
       "    </tr>\n",
       "    <tr>\n",
       "      <th>4</th>\n",
       "      <td>Sparx Men's Sd0323g Sneakers</td>\n",
       "      <td>₹499.00</td>\n",
       "      <td>4.2 out of 5 stars</td>\n",
       "      <td>20110 ratings</td>\n",
       "      <td>Sparx is a spectacular range of footwear from ...</td>\n",
       "      <td>Best|| Satisfied!|| Affordable beauty 😘😘😘😘 the...</td>\n",
       "      <td>5.0 out of 5 stars|| 5.0 out of 5 stars|| 5.0 ...</td>\n",
       "      <td>Men</td>\n",
       "    </tr>\n",
       "    <tr>\n",
       "      <th>...</th>\n",
       "      <td>...</td>\n",
       "      <td>...</td>\n",
       "      <td>...</td>\n",
       "      <td>...</td>\n",
       "      <td>...</td>\n",
       "      <td>...</td>\n",
       "      <td>...</td>\n",
       "      <td>...</td>\n",
       "    </tr>\n",
       "    <tr>\n",
       "      <th>1225</th>\n",
       "      <td>Nike Men's React Vision Running Shoes</td>\n",
       "      <td>₹7256.00</td>\n",
       "      <td>4.4 out of 5 stars</td>\n",
       "      <td>200 ratings</td>\n",
       "      <td>The Nike react vision is a STORY of surreal co...</td>\n",
       "      <td>Must buy|| not have a great fiting but great q...</td>\n",
       "      <td>5.0 out of 5 stars|| 3.0 out of 5 stars|| 5.0 ...</td>\n",
       "      <td>Women</td>\n",
       "    </tr>\n",
       "    <tr>\n",
       "      <th>1226</th>\n",
       "      <td>Puma Men's B.O.G Limitless Hi Evoknit Sneakers</td>\n",
       "      <td>₹5822.00</td>\n",
       "      <td>4.3 out of 5 stars</td>\n",
       "      <td>25 ratings</td>\n",
       "      <td>The B.O.G limitless is Puma's key style for th...</td>\n",
       "      <td>Worth buying !|| Classy Bold and Stylish !!|| ...</td>\n",
       "      <td>4.0 out of 5 stars|| 5.0 out of 5 stars|| 3.0 ...</td>\n",
       "      <td>Women</td>\n",
       "    </tr>\n",
       "    <tr>\n",
       "      <th>1227</th>\n",
       "      <td>new balance Women's FuelCell Echolucent Runnin...</td>\n",
       "      <td>₹5362.00</td>\n",
       "      <td>4.5 out of 5 stars</td>\n",
       "      <td>817 ratings</td>\n",
       "      <td>Lead the pack in New Balance’s Echolucent snea...</td>\n",
       "      <td>size variation in product recd n size chart|| ...</td>\n",
       "      <td>5.0 out of 5 stars|| 5.0 out of 5 stars|| 5.0 ...</td>\n",
       "      <td>Women</td>\n",
       "    </tr>\n",
       "    <tr>\n",
       "      <th>1228</th>\n",
       "      <td>Nike Women's WMNS Air Zoom Pegasus 37 Running ...</td>\n",
       "      <td>₹7480.00</td>\n",
       "      <td>4.5 out of 5 stars</td>\n",
       "      <td>67 ratings</td>\n",
       "      <td>Nike మహిళల రన్నింగ్ షూ ఫీల్స్ మరియు రూపం మృదువ...</td>\n",
       "      <td>Verified Purchase|| Verified Purchase|| Verifi...</td>\n",
       "      <td>5.0 out of 5 stars|| 5.0 out of 5 stars|| 4.0 ...</td>\n",
       "      <td>Women</td>\n",
       "    </tr>\n",
       "    <tr>\n",
       "      <th>1229</th>\n",
       "      <td>ASICS Women Gt-2000 7 Lite-Show Running Shoes</td>\n",
       "      <td>₹5719.00</td>\n",
       "      <td>4.1 out of 5 stars</td>\n",
       "      <td>210 ratings</td>\n",
       "      <td>The GT-2000 7 achieves a reassuringly firm rid...</td>\n",
       "      <td>Great shoe|| excellent quality|| Old manufactu...</td>\n",
       "      <td>5.0 out of 5 stars|| 5.0 out of 5 stars|| 3.0 ...</td>\n",
       "      <td>Women</td>\n",
       "    </tr>\n",
       "  </tbody>\n",
       "</table>\n",
       "<p>1230 rows × 8 columns</p>\n",
       "</div>"
      ],
      "text/plain": [
       "                                                  title     price  \\\n",
       "0       CLYMB Outdoor Sports Running Shoes for Mens Boy   ₹279.00   \n",
       "1                 Bourge Men's Loire-z126 Running Shoes   ₹479.00   \n",
       "2                                  T-Rock Men's Sneaker   ₹430.00   \n",
       "3     Robbie jones Sneakers Casual Canvas Fabric Col...   ₹499.00   \n",
       "4                          Sparx Men's Sd0323g Sneakers   ₹499.00   \n",
       "...                                                 ...       ...   \n",
       "1225              Nike Men's React Vision Running Shoes  ₹7256.00   \n",
       "1226     Puma Men's B.O.G Limitless Hi Evoknit Sneakers  ₹5822.00   \n",
       "1227  new balance Women's FuelCell Echolucent Runnin...  ₹5362.00   \n",
       "1228  Nike Women's WMNS Air Zoom Pegasus 37 Running ...  ₹7480.00   \n",
       "1229      ASICS Women Gt-2000 7 Lite-Show Running Shoes  ₹5719.00   \n",
       "\n",
       "                  rating  total_reviews  \\\n",
       "0     2.9 out of 5 stars   2389 ratings   \n",
       "1     3.9 out of 5 stars  11520 ratings   \n",
       "2     3.3 out of 5 stars   1251 ratings   \n",
       "3     4.2 out of 5 stars      3 ratings   \n",
       "4     4.2 out of 5 stars  20110 ratings   \n",
       "...                  ...            ...   \n",
       "1225  4.4 out of 5 stars    200 ratings   \n",
       "1226  4.3 out of 5 stars     25 ratings   \n",
       "1227  4.5 out of 5 stars    817 ratings   \n",
       "1228  4.5 out of 5 stars     67 ratings   \n",
       "1229  4.1 out of 5 stars    210 ratings   \n",
       "\n",
       "                                    product_description  \\\n",
       "0     Elevate your style with this classy pair of Ru...   \n",
       "1     The product will be an excellent pick for you....   \n",
       "2     Flaunt with these stylish and unique red casua...   \n",
       "3     Robbie Jones Shoes Are Designed To Keeping In ...   \n",
       "4     Sparx is a spectacular range of footwear from ...   \n",
       "...                                                 ...   \n",
       "1225  The Nike react vision is a STORY of surreal co...   \n",
       "1226  The B.O.G limitless is Puma's key style for th...   \n",
       "1227  Lead the pack in New Balance’s Echolucent snea...   \n",
       "1228  Nike మహిళల రన్నింగ్ షూ ఫీల్స్ మరియు రూపం మృదువ...   \n",
       "1229  The GT-2000 7 achieves a reassuringly firm rid...   \n",
       "\n",
       "                                                reviews  \\\n",
       "0     Not happy with product|| It's not as expected....   \n",
       "1     Memory cushioning in these shoes is the best f...   \n",
       "2     Worth to its amount|| Go for it|| Perfect|| 5 ...   \n",
       "3     Sup quality|| Good but not expected|| Awesome 👌.!   \n",
       "4     Best|| Satisfied!|| Affordable beauty 😘😘😘😘 the...   \n",
       "...                                                 ...   \n",
       "1225  Must buy|| not have a great fiting but great q...   \n",
       "1226  Worth buying !|| Classy Bold and Stylish !!|| ...   \n",
       "1227  size variation in product recd n size chart|| ...   \n",
       "1228  Verified Purchase|| Verified Purchase|| Verifi...   \n",
       "1229  Great shoe|| excellent quality|| Old manufactu...   \n",
       "\n",
       "                                         reviews_rating Shoe Type  \n",
       "0     1.0 out of 5 stars|| 1.0 out of 5 stars|| 3.0 ...       Men  \n",
       "1     5.0 out of 5 stars|| 1.0 out of 5 stars|| 5.0 ...       Men  \n",
       "2     5.0 out of 5 stars|| 5.0 out of 5 stars|| 5.0 ...       Men  \n",
       "3     5.0 out of 5 stars|| 3.0 out of 5 stars|| 5.0 ...       Men  \n",
       "4     5.0 out of 5 stars|| 5.0 out of 5 stars|| 5.0 ...       Men  \n",
       "...                                                 ...       ...  \n",
       "1225  5.0 out of 5 stars|| 3.0 out of 5 stars|| 5.0 ...     Women  \n",
       "1226  4.0 out of 5 stars|| 5.0 out of 5 stars|| 3.0 ...     Women  \n",
       "1227  5.0 out of 5 stars|| 5.0 out of 5 stars|| 5.0 ...     Women  \n",
       "1228  5.0 out of 5 stars|| 5.0 out of 5 stars|| 4.0 ...     Women  \n",
       "1229  5.0 out of 5 stars|| 5.0 out of 5 stars|| 3.0 ...     Women  \n",
       "\n",
       "[1230 rows x 8 columns]"
      ]
     },
     "execution_count": 143,
     "metadata": {},
     "output_type": "execute_result"
    }
   ],
   "source": [
    "data"
   ]
  },
  {
   "cell_type": "code",
   "execution_count": 144,
   "metadata": {
    "scrolled": true
   },
   "outputs": [
    {
     "name": "stdout",
     "output_type": "stream",
     "text": [
      "<class 'pandas.core.frame.DataFrame'>\n",
      "RangeIndex: 1230 entries, 0 to 1229\n",
      "Data columns (total 8 columns):\n",
      " #   Column               Non-Null Count  Dtype \n",
      "---  ------               --------------  ----- \n",
      " 0   title                1230 non-null   object\n",
      " 1   price                1230 non-null   object\n",
      " 2   rating               1230 non-null   object\n",
      " 3   total_reviews        1230 non-null   object\n",
      " 4   product_description  1230 non-null   object\n",
      " 5   reviews              1230 non-null   object\n",
      " 6   reviews_rating       1230 non-null   object\n",
      " 7   Shoe Type            1230 non-null   object\n",
      "dtypes: object(8)\n",
      "memory usage: 77.0+ KB\n"
     ]
    }
   ],
   "source": [
    "data.info()"
   ]
  },
  {
   "cell_type": "markdown",
   "metadata": {},
   "source": [
    "Видим, что у нас пустых значений, все фичи не числовые"
   ]
  },
  {
   "cell_type": "markdown",
   "metadata": {},
   "source": [
    "**1.2** Проверим на наличие дублей и уберем"
   ]
  },
  {
   "cell_type": "code",
   "execution_count": 145,
   "metadata": {},
   "outputs": [
    {
     "data": {
      "text/plain": [
       "(1015, 8)"
      ]
     },
     "execution_count": 145,
     "metadata": {},
     "output_type": "execute_result"
    }
   ],
   "source": [
    "data.drop_duplicates(inplace=True, keep='first')\n",
    "data.shape"
   ]
  },
  {
   "cell_type": "markdown",
   "metadata": {},
   "source": [
    "**1.3** Приведем целевую переменную в числовое значение и посмотрим на ее распределение"
   ]
  },
  {
   "cell_type": "code",
   "execution_count": 146,
   "metadata": {},
   "outputs": [],
   "source": [
    "data.rating = data.rating.apply(lambda x: float(x.split()[0]))"
   ]
  },
  {
   "cell_type": "code",
   "execution_count": 147,
   "metadata": {},
   "outputs": [
    {
     "data": {
      "image/png": "[encoded data removed]",
      "text/plain": [
       "<Figure size 432x288 with 1 Axes>"
      ]
     },
     "metadata": {
      "needs_background": "light"
     },
     "output_type": "display_data"
    }
   ],
   "source": [
    "data.rating.hist();"
   ]
  },
  {
   "cell_type": "markdown",
   "metadata": {},
   "source": [
    "Видим, что у нас тут практически нормальное распределение с большинством объектов с рейтингом 4. Что не очень, потому что у нас будет сильный дисбаланс классов :(\n",
    "\n",
    "Anyway, сейчас у нас все еще continious данные, а для классификации нам нужны категориальные данные, поэтому преобразуем их. Здесь есть два варианта: либо преобразовать оценки в стандартную пятибалльную шкалу (1-2-3-4-5), либо закодировать данные при помощи какого-нибудь LabelEncoder'а (1.0 = 0, 1.1 = 1, 1.2 = 2 и тд.)\n",
    "\n",
    "В случае со вторым вариантом получим ОЧЕНЬ много лейблов (около 40), а данных у нас не так много, поэтому предпочту первый вариант"
   ]
  },
  {
   "cell_type": "code",
   "execution_count": 148,
   "metadata": {},
   "outputs": [],
   "source": [
    "data.rating = data.rating.apply(round)"
   ]
  },
  {
   "cell_type": "code",
   "execution_count": 149,
   "metadata": {},
   "outputs": [
    {
     "data": {
      "image/png": "[encoded data removed]",
      "text/plain": [
       "<Figure size 432x288 with 1 Axes>"
      ]
     },
     "metadata": {
      "needs_background": "light"
     },
     "output_type": "display_data"
    }
   ],
   "source": [
    "data.rating.hist();"
   ]
  },
  {
   "cell_type": "code",
   "execution_count": 150,
   "metadata": {},
   "outputs": [
    {
     "data": {
      "text/plain": [
       "4    874\n",
       "3     89\n",
       "5     40\n",
       "2     10\n",
       "1      2\n",
       "Name: rating, dtype: int64"
      ]
     },
     "execution_count": 150,
     "metadata": {},
     "output_type": "execute_result"
    }
   ],
   "source": [
    "data.rating.value_counts()"
   ]
  },
  {
   "cell_type": "markdown",
   "metadata": {},
   "source": [
    "Конечно, видим ужасный дисбаланс, по-хорошему надо бы его исправить downsampling'ом, но у нас и так мало данных :(\n",
    "\n",
    "**1.4** Здесь опять же можно поисследовать другие факторы, однако хочется все же использовать только тексты, поэтому как и выше посмотрим только на тексты отзывов"
   ]
  },
  {
   "cell_type": "code",
   "execution_count": 151,
   "metadata": {},
   "outputs": [
    {
     "data": {
      "image/png": "[encoded data removed]",
      "text/plain": [
       "<Figure size 432x288 with 1 Axes>"
      ]
     },
     "metadata": {
      "needs_background": "light"
     },
     "output_type": "display_data"
    }
   ],
   "source": [
    "plt.scatter(data.reviews.apply(lambda x: len(x.split())), data.rating)\n",
    "plt.title('Rating depending on the product description length')\n",
    "plt.ylabel('Rating')\n",
    "plt.xlabel('Num. characters');"
   ]
  },
  {
   "cell_type": "code",
   "execution_count": 152,
   "metadata": {},
   "outputs": [
    {
     "name": "stdout",
     "output_type": "stream",
     "text": [
      "Pearson correlation: 0.03877466564775599\n",
      "Spearman correlation: 0.013241291984633604\n"
     ]
    }
   ],
   "source": [
    "print('Pearson correlation:', pearsonr(data.reviews.apply(lambda x: len(x.split())),\n",
    "                                       data.rating)[0])\n",
    "print('Spearman correlation:', spearmanr(data.reviews.apply(lambda x: len(x.split())),\n",
    "                                         data.rating).correlation)"
   ]
  },
  {
   "cell_type": "markdown",
   "metadata": {},
   "source": [
    "Как видим, зависимости нет"
   ]
  },
  {
   "cell_type": "markdown",
   "metadata": {},
   "source": [
    "**1.5** Уберем ненужные столбцы"
   ]
  },
  {
   "cell_type": "code",
   "execution_count": 153,
   "metadata": {},
   "outputs": [],
   "source": [
    "data.drop(columns=['title', 'price', 'total_reviews',\n",
    "                   'reviews_rating', 'product_description', 'Shoe Type'], inplace=True)"
   ]
  },
  {
   "cell_type": "code",
   "execution_count": 154,
   "metadata": {},
   "outputs": [
    {
     "data": {
      "text/html": [
       "<div>\n",
       "<style scoped>\n",
       "    .dataframe tbody tr th:only-of-type {\n",
       "        vertical-align: middle;\n",
       "    }\n",
       "\n",
       "    .dataframe tbody tr th {\n",
       "        vertical-align: top;\n",
       "    }\n",
       "\n",
       "    .dataframe thead th {\n",
       "        text-align: right;\n",
       "    }\n",
       "</style>\n",
       "<table border=\"1\" class=\"dataframe\">\n",
       "  <thead>\n",
       "    <tr style=\"text-align: right;\">\n",
       "      <th></th>\n",
       "      <th>rating</th>\n",
       "      <th>reviews</th>\n",
       "    </tr>\n",
       "  </thead>\n",
       "  <tbody>\n",
       "    <tr>\n",
       "      <th>0</th>\n",
       "      <td>3</td>\n",
       "      <td>Not happy with product|| It's not as expected....</td>\n",
       "    </tr>\n",
       "    <tr>\n",
       "      <th>1</th>\n",
       "      <td>4</td>\n",
       "      <td>Memory cushioning in these shoes is the best f...</td>\n",
       "    </tr>\n",
       "    <tr>\n",
       "      <th>2</th>\n",
       "      <td>3</td>\n",
       "      <td>Worth to its amount|| Go for it|| Perfect|| 5 ...</td>\n",
       "    </tr>\n",
       "    <tr>\n",
       "      <th>3</th>\n",
       "      <td>4</td>\n",
       "      <td>Sup quality|| Good but not expected|| Awesome 👌.!</td>\n",
       "    </tr>\n",
       "    <tr>\n",
       "      <th>4</th>\n",
       "      <td>4</td>\n",
       "      <td>Best|| Satisfied!|| Affordable beauty 😘😘😘😘 the...</td>\n",
       "    </tr>\n",
       "    <tr>\n",
       "      <th>...</th>\n",
       "      <td>...</td>\n",
       "      <td>...</td>\n",
       "    </tr>\n",
       "    <tr>\n",
       "      <th>1193</th>\n",
       "      <td>4</td>\n",
       "      <td>Must buy|| not have a great fiting but great q...</td>\n",
       "    </tr>\n",
       "    <tr>\n",
       "      <th>1194</th>\n",
       "      <td>4</td>\n",
       "      <td>Worth buying !|| Classy Bold and Stylish !!|| ...</td>\n",
       "    </tr>\n",
       "    <tr>\n",
       "      <th>1195</th>\n",
       "      <td>4</td>\n",
       "      <td>size variation in product recd n size chart|| ...</td>\n",
       "    </tr>\n",
       "    <tr>\n",
       "      <th>1196</th>\n",
       "      <td>4</td>\n",
       "      <td>Verified Purchase|| Verified Purchase|| Verifi...</td>\n",
       "    </tr>\n",
       "    <tr>\n",
       "      <th>1197</th>\n",
       "      <td>4</td>\n",
       "      <td>Great shoe|| excellent quality|| Old manufactu...</td>\n",
       "    </tr>\n",
       "  </tbody>\n",
       "</table>\n",
       "<p>1015 rows × 2 columns</p>\n",
       "</div>"
      ],
      "text/plain": [
       "      rating                                            reviews\n",
       "0          3  Not happy with product|| It's not as expected....\n",
       "1          4  Memory cushioning in these shoes is the best f...\n",
       "2          3  Worth to its amount|| Go for it|| Perfect|| 5 ...\n",
       "3          4  Sup quality|| Good but not expected|| Awesome 👌.!\n",
       "4          4  Best|| Satisfied!|| Affordable beauty 😘😘😘😘 the...\n",
       "...      ...                                                ...\n",
       "1193       4  Must buy|| not have a great fiting but great q...\n",
       "1194       4  Worth buying !|| Classy Bold and Stylish !!|| ...\n",
       "1195       4  size variation in product recd n size chart|| ...\n",
       "1196       4  Verified Purchase|| Verified Purchase|| Verifi...\n",
       "1197       4  Great shoe|| excellent quality|| Old manufactu...\n",
       "\n",
       "[1015 rows x 2 columns]"
      ]
     },
     "execution_count": 154,
     "metadata": {},
     "output_type": "execute_result"
    }
   ],
   "source": [
    "data"
   ]
  },
  {
   "cell_type": "markdown",
   "metadata": {},
   "source": [
    "### 2. Препроцессинг данных\n",
    "\n",
    "Тут делаем то же самое, что и для регрессии:\n",
    "\n",
    "- токенизируем\n",
    "- лемматизируем (очевидно, нам не нужно учитывать все возможные формы оного слова, потому что наши модели все равно не учитывают контекст)\n",
    "- приведем к нижнему регистру (по той же причине в принципе, в целом можно оставить и cased версию, но мне не кажется, что это улучшит/ухудшит результаты)\n",
    "- уберем неподходящие символы: числа, пунктуацию (т.к. наши модели опираются на частотности, то их извлечение не испортит ничего, а наоборот избавит от большого количества лищних данных)\n",
    "- уберем не латинские символы (они странные и ненужные)\n",
    "\n",
    "**НО:** \n",
    "+ сначала поделим тексты по ||"
   ]
  },
  {
   "cell_type": "code",
   "execution_count": 155,
   "metadata": {},
   "outputs": [],
   "source": [
    "data['lemmatized'] = data.reviews.apply(lambda x: ' '.join(x.split('||')))"
   ]
  },
  {
   "cell_type": "code",
   "execution_count": 156,
   "metadata": {},
   "outputs": [
    {
     "data": {
      "application/vnd.jupyter.widget-view+json": {
       "model_id": "07a40088642c49bdbb3ae29d600f9ab5",
       "version_major": 2,
       "version_minor": 0
      },
      "text/plain": [
       "HBox(children=(FloatProgress(value=0.0, max=1015.0), HTML(value='')))"
      ]
     },
     "metadata": {},
     "output_type": "display_data"
    },
    {
     "name": "stdout",
     "output_type": "stream",
     "text": [
      "\n"
     ]
    }
   ],
   "source": [
    "data['lemmatized'] = data.lemmatized.progress_apply(lemmatize)"
   ]
  },
  {
   "cell_type": "code",
   "execution_count": 157,
   "metadata": {},
   "outputs": [
    {
     "data": {
      "text/plain": [
       "'Best|| Satisfied!|| Affordable beauty 😘😘😘😘 the eye catcher 😊|| Economical and soft for feet|| Good looking shoe however buy one size low|| Must bye for puja|| Why so much variation in sizes.|| Review after 30 days of use|| You get what you pay for|| Cheap and branded spent 588/- x 5 to 6 time is better than 4500/- one time'"
      ]
     },
     "execution_count": 157,
     "metadata": {},
     "output_type": "execute_result"
    }
   ],
   "source": [
    "data['reviews'][4]"
   ]
  },
  {
   "cell_type": "code",
   "execution_count": 158,
   "metadata": {},
   "outputs": [
    {
     "data": {
      "text/plain": [
       "'good satisfied affordable beauty eye catcher economical soft foot good looking shoe however buy one size low must bye puja much variation size review day use get pay cheap brand spend x time well one time'"
      ]
     },
     "execution_count": 158,
     "metadata": {},
     "output_type": "execute_result"
    }
   ],
   "source": [
    "data['lemmatized'][4]"
   ]
  },
  {
   "cell_type": "markdown",
   "metadata": {},
   "source": [
    "### 3. Векторизация\n",
    "#### 3.1 BoW"
   ]
  },
  {
   "cell_type": "code",
   "execution_count": 159,
   "metadata": {},
   "outputs": [],
   "source": [
    "cv = CountVectorizer()\n",
    "bow_features = cv.fit_transform(data['lemmatized']).toarray()"
   ]
  },
  {
   "cell_type": "markdown",
   "metadata": {},
   "source": [
    "#### 3.2 TF-IDF"
   ]
  },
  {
   "cell_type": "code",
   "execution_count": 160,
   "metadata": {},
   "outputs": [],
   "source": [
    "tfidf = TfidfVectorizer()\n",
    "tfidf_features = tfidf.fit_transform(data['lemmatized']).toarray()"
   ]
  },
  {
   "cell_type": "markdown",
   "metadata": {},
   "source": [
    "### 4.  Подбор параметров\n",
    "#### 4.1 BoW"
   ]
  },
  {
   "cell_type": "code",
   "execution_count": 181,
   "metadata": {},
   "outputs": [],
   "source": [
    "X_train, X_test, y_train, y_test = train_test_split(bow_features, data['rating'].values,\n",
    "                                                    test_size=0.2, random_state=42)"
   ]
  },
  {
   "cell_type": "code",
   "execution_count": 182,
   "metadata": {
    "scrolled": true
   },
   "outputs": [
    {
     "name": "stdout",
     "output_type": "stream",
     "text": [
      "Train set labels:\n",
      "4    695\n",
      "3     73\n",
      "5     33\n",
      "2      9\n",
      "1      2\n",
      "dtype: int64\n"
     ]
    }
   ],
   "source": [
    "print('Train set labels:', pd.DataFrame(y_train).value_counts(), sep='\\n')"
   ]
  },
  {
   "cell_type": "code",
   "execution_count": 183,
   "metadata": {},
   "outputs": [
    {
     "name": "stdout",
     "output_type": "stream",
     "text": [
      "Test set labels:\n",
      "4    179\n",
      "3     16\n",
      "5      7\n",
      "2      1\n",
      "dtype: int64\n"
     ]
    }
   ],
   "source": [
    "print('Test set labels:', pd.DataFrame(y_test).value_counts(), sep='\\n')"
   ]
  },
  {
   "cell_type": "markdown",
   "metadata": {},
   "source": [
    "Как видим, распределение не самое лучшее, но ничего не поделать, т.к. данных мало и они не сбалансированны, так что будем работать с тем что есть\n",
    "\n",
    "Посмотрим на распределение данных, воспользовавшись PCA (который старается сохранить изначальную структуру при преобразовании):"
   ]
  },
  {
   "cell_type": "code",
   "execution_count": 184,
   "metadata": {},
   "outputs": [],
   "source": [
    "pca = PCA(n_components=2)\n",
    "X_pca = pca.fit_transform(bow_features)"
   ]
  },
  {
   "cell_type": "code",
   "execution_count": 185,
   "metadata": {},
   "outputs": [
    {
     "data": {
      "image/png": "[encoded data removed]",
      "text/plain": [
       "<Figure size 432x288 with 2 Axes>"
      ]
     },
     "metadata": {
      "needs_background": "light"
     },
     "output_type": "display_data"
    }
   ],
   "source": [
    "plt.scatter(X_pca[:,0], X_pca[:,1], c=data['rating'].values)\n",
    "plt.colorbar()\n",
    "plt.title(\"Feature distribution in 2-dim space\");"
   ]
  },
  {
   "cell_type": "code",
   "execution_count": 186,
   "metadata": {},
   "outputs": [
    {
     "data": {
      "image/png": "[encoded data removed]",
      "text/plain": [
       "<Figure size 432x288 with 2 Axes>"
      ]
     },
     "metadata": {
      "needs_background": "light"
     },
     "output_type": "display_data"
    }
   ],
   "source": [
    "plt.scatter(pca.transform(X_test)[:,0], pca.transform(X_test)[:,1], c=y_test)\n",
    "plt.colorbar()\n",
    "plt.title(\"Feature distribution in 2-dim space, test\");"
   ]
  },
  {
   "cell_type": "markdown",
   "metadata": {},
   "source": [
    "#### 4.1.1 LinearClassification"
   ]
  },
  {
   "cell_type": "code",
   "execution_count": 187,
   "metadata": {},
   "outputs": [
    {
     "name": "stdout",
     "output_type": "stream",
     "text": [
      "              precision    recall  f1-score   support\n",
      "\n",
      "           2       0.00      0.00      0.00         0\n",
      "           3       0.06      0.25      0.10         4\n",
      "           4       0.98      0.88      0.93       199\n",
      "           5       0.00      0.00      0.00         0\n",
      "\n",
      "    accuracy                           0.87       203\n",
      "   macro avg       0.26      0.28      0.26       203\n",
      "weighted avg       0.97      0.87      0.91       203\n",
      "\n"
     ]
    }
   ],
   "source": [
    "lr = LogisticRegression()\n",
    "lr.fit(X_train, y_train)\n",
    "print(classification_report(lr.predict(X_test), y_test))"
   ]
  },
  {
   "cell_type": "code",
   "execution_count": 188,
   "metadata": {},
   "outputs": [
    {
     "data": {
      "text/plain": [
       "<matplotlib.axes._subplots.AxesSubplot at 0x7fa3eebbf310>"
      ]
     },
     "execution_count": 188,
     "metadata": {},
     "output_type": "execute_result"
    },
    {
     "data": {
      "image/png": "[encoded data removed]",
      "text/plain": [
       "<Figure size 432x288 with 2 Axes>"
      ]
     },
     "metadata": {
      "needs_background": "light"
     },
     "output_type": "display_data"
    }
   ],
   "source": [
    "sns.heatmap(confusion_matrix(y_test, lr.predict(X_test)),\n",
    "            xticklabels=lr.classes_[1:], yticklabels=lr.classes_[1:])"
   ]
  },
  {
   "cell_type": "markdown",
   "metadata": {},
   "source": [
    "Ожидаемо, видим, что лучше всего определяется 4 класс, который самый представительный в нашей выборке, качество на нем 0.93 (f-score), второй по определимости -- класс 3, он же второй по количеству примеров, но качестсво уже всего 0.10\n",
    "\n",
    "В целом видим, что качество модели 0.91 (взвещенный f-score), однако понимаем, что такое достигается из-за большого преобладания 4 класса и отсутствия достаточного количества примеров из других классов"
   ]
  },
  {
   "cell_type": "markdown",
   "metadata": {},
   "source": [
    "#### 4.1.2 KNN"
   ]
  },
  {
   "cell_type": "code",
   "execution_count": 189,
   "metadata": {},
   "outputs": [],
   "source": [
    "knn = KNeighborsClassifier()\n",
    "gs = GridSearchCV(knn,\n",
    "                  param_grid = {\n",
    "                      'n_neighbors': range(2, 10, 50),           \n",
    "                  })\n",
    "knn = gs.fit(X_train, y_train)"
   ]
  },
  {
   "cell_type": "code",
   "execution_count": 190,
   "metadata": {},
   "outputs": [
    {
     "name": "stdout",
     "output_type": "stream",
     "text": [
      "              precision    recall  f1-score   support\n",
      "\n",
      "           1       0.00      0.00      0.00         0\n",
      "           2       0.00      0.00      0.00         1\n",
      "           3       0.12      0.25      0.17        16\n",
      "           4       0.90      0.79      0.84       179\n",
      "           5       0.50      0.14      0.22         7\n",
      "\n",
      "    accuracy                           0.72       203\n",
      "   macro avg       0.31      0.24      0.25       203\n",
      "weighted avg       0.82      0.72      0.76       203\n",
      "\n"
     ]
    }
   ],
   "source": [
    "print(classification_report(y_test, knn.predict(X_test)))"
   ]
  },
  {
   "cell_type": "code",
   "execution_count": 191,
   "metadata": {},
   "outputs": [
    {
     "data": {
      "image/png": "[encoded data removed]",
      "text/plain": [
       "<Figure size 432x288 with 2 Axes>"
      ]
     },
     "metadata": {
      "needs_background": "light"
     },
     "output_type": "display_data"
    }
   ],
   "source": [
    "sns.heatmap(confusion_matrix(y_test, knn.predict(X_test)),\n",
    "            xticklabels=lr.classes_, yticklabels=lr.classes_);"
   ]
  },
  {
   "cell_type": "markdown",
   "metadata": {},
   "source": [
    "KNN с задачей справляется хуже, что видимо связано с распределением данных (см. картинку выше). Т.к. данные находятся \"в куче\", т.е. распределены примерно в одном месте, то алгоритм ближайшего соседа будет работать плохо, т.к. соседи не обязательно будут объектами из верного класса (см. объекты класса 5 (желтые точки) на картинке выше).\n",
    "\n",
    "Качество модели всего 0.76 (взвешенный f-score). Аналогично простой линейной классификации, лучше всего определяется 4 класс, НО в KNN попадают и объекты 5 класса (что хорошо, что мы их не игнорируем)"
   ]
  },
  {
   "cell_type": "markdown",
   "metadata": {},
   "source": [
    "#### 4.1.3 Random Forest"
   ]
  },
  {
   "cell_type": "code",
   "execution_count": 192,
   "metadata": {},
   "outputs": [],
   "source": [
    "rf = RandomForestClassifier()\n",
    "gs = GridSearchCV(rf,\n",
    "                  param_grid = {\n",
    "                      'n_estimators': range(50, 210, 50),\n",
    "                      'max_depth': range(100, 1100, 300),                      \n",
    "                  })\n",
    "forest = gs.fit(X_train, y_train)"
   ]
  },
  {
   "cell_type": "code",
   "execution_count": 193,
   "metadata": {},
   "outputs": [
    {
     "name": "stdout",
     "output_type": "stream",
     "text": [
      "              precision    recall  f1-score   support\n",
      "\n",
      "           2       0.00      0.00      0.00         1\n",
      "           3       0.00      0.00      0.00        16\n",
      "           4       0.89      0.98      0.93       179\n",
      "           5       1.00      0.14      0.25         7\n",
      "\n",
      "    accuracy                           0.87       203\n",
      "   macro avg       0.47      0.28      0.30       203\n",
      "weighted avg       0.82      0.87      0.83       203\n",
      "\n"
     ]
    }
   ],
   "source": [
    "print(classification_report(y_test, forest.predict(X_test)))"
   ]
  },
  {
   "cell_type": "code",
   "execution_count": 194,
   "metadata": {},
   "outputs": [
    {
     "data": {
      "image/png": "[encoded data removed]",
      "text/plain": [
       "<Figure size 432x288 with 2 Axes>"
      ]
     },
     "metadata": {
      "needs_background": "light"
     },
     "output_type": "display_data"
    }
   ],
   "source": [
    "sns.heatmap(confusion_matrix(y_test, forest.predict(X_test)),\n",
    "            xticklabels=lr.classes_[1:], yticklabels=lr.classes_[1:]);"
   ]
  },
  {
   "cell_type": "markdown",
   "metadata": {},
   "source": [
    "Random Forest ведет себя похоже на модель линейной классификации, однако выделяет 4 и 5 классы, что можно так же попробовать объяснить распределением данных, в которых 5 класс кажется более отделимым от 4 чем 3. Хотя это довольно странно и видимо так сложилось, что 5 класс более distinctive для алгоритма. Но вообще я склоняюсь к тому, что это скорее влияние рандома, потому что оба 3 и 5 класс представлены довольно небольшим количеством примеров"
   ]
  },
  {
   "cell_type": "markdown",
   "metadata": {},
   "source": [
    "#### 4.2 TF-IDF"
   ]
  },
  {
   "cell_type": "code",
   "execution_count": 195,
   "metadata": {},
   "outputs": [],
   "source": [
    "X_train, X_test, y_train, y_test = train_test_split(tfidf_features, data['rating'].values,\n",
    "                                                    test_size=0.2, random_state=42)"
   ]
  },
  {
   "cell_type": "code",
   "execution_count": 196,
   "metadata": {
    "scrolled": true
   },
   "outputs": [
    {
     "name": "stdout",
     "output_type": "stream",
     "text": [
      "Train set labels:\n",
      "4    695\n",
      "3     73\n",
      "5     33\n",
      "2      9\n",
      "1      2\n",
      "dtype: int64\n"
     ]
    }
   ],
   "source": [
    "print('Train set labels:', pd.DataFrame(y_train).value_counts(), sep='\\n')"
   ]
  },
  {
   "cell_type": "code",
   "execution_count": 197,
   "metadata": {},
   "outputs": [
    {
     "name": "stdout",
     "output_type": "stream",
     "text": [
      "Test set labels:\n",
      "4    179\n",
      "3     16\n",
      "5      7\n",
      "2      1\n",
      "dtype: int64\n"
     ]
    }
   ],
   "source": [
    "print('Test set labels:', pd.DataFrame(y_test).value_counts(), sep='\\n')"
   ]
  },
  {
   "cell_type": "code",
   "execution_count": 198,
   "metadata": {},
   "outputs": [],
   "source": [
    "pca = PCA(n_components=2)\n",
    "X_pca = pca.fit_transform(tfidf_features)"
   ]
  },
  {
   "cell_type": "code",
   "execution_count": 199,
   "metadata": {},
   "outputs": [
    {
     "data": {
      "image/png": "[encoded data removed]",
      "text/plain": [
       "<Figure size 432x288 with 2 Axes>"
      ]
     },
     "metadata": {
      "needs_background": "light"
     },
     "output_type": "display_data"
    }
   ],
   "source": [
    "plt.scatter(X_pca[:,0], X_pca[:,1], c=data['rating'].values)\n",
    "plt.colorbar()\n",
    "plt.title(\"Feature distribution in 2-dim space\");"
   ]
  },
  {
   "cell_type": "markdown",
   "metadata": {},
   "source": [
    "#### 4.1.1 LinearClassification"
   ]
  },
  {
   "cell_type": "code",
   "execution_count": 200,
   "metadata": {},
   "outputs": [
    {
     "name": "stdout",
     "output_type": "stream",
     "text": [
      "              precision    recall  f1-score   support\n",
      "\n",
      "           2       0.00      0.00      0.00         0\n",
      "           3       0.00      0.00      0.00         0\n",
      "           4       1.00      0.88      0.94       203\n",
      "           5       0.00      0.00      0.00         0\n",
      "\n",
      "    accuracy                           0.88       203\n",
      "   macro avg       0.25      0.22      0.23       203\n",
      "weighted avg       1.00      0.88      0.94       203\n",
      "\n"
     ]
    }
   ],
   "source": [
    "lr = LogisticRegression()\n",
    "lr.fit(X_train, y_train)\n",
    "print(classification_report(lr.predict(X_test), y_test))"
   ]
  },
  {
   "cell_type": "code",
   "execution_count": 201,
   "metadata": {},
   "outputs": [
    {
     "data": {
      "image/png": "[encoded data removed]",
      "text/plain": [
       "<Figure size 432x288 with 2 Axes>"
      ]
     },
     "metadata": {
      "needs_background": "light"
     },
     "output_type": "display_data"
    }
   ],
   "source": [
    "sns.heatmap(confusion_matrix(y_test, lr.predict(X_test)),\n",
    "            xticklabels=lr.classes_[1:], yticklabels=lr.classes_[1:]);"
   ]
  },
  {
   "cell_type": "markdown",
   "metadata": {},
   "source": [
    "#### 4.1.2 KNN"
   ]
  },
  {
   "cell_type": "code",
   "execution_count": 202,
   "metadata": {},
   "outputs": [],
   "source": [
    "knn = KNeighborsClassifier()\n",
    "gs = GridSearchCV(knn,\n",
    "                  param_grid = {\n",
    "                      'n_neighbors': range(2, 10, 50),           \n",
    "                  })\n",
    "knn = gs.fit(X_train, y_train)"
   ]
  },
  {
   "cell_type": "code",
   "execution_count": 203,
   "metadata": {},
   "outputs": [
    {
     "name": "stdout",
     "output_type": "stream",
     "text": [
      "              precision    recall  f1-score   support\n",
      "\n",
      "           1       0.00      0.00      0.00         0\n",
      "           2       0.00      0.00      0.00         1\n",
      "           3       0.12      0.31      0.18        16\n",
      "           4       0.90      0.74      0.81       179\n",
      "           5       0.00      0.00      0.00         7\n",
      "\n",
      "    accuracy                           0.67       203\n",
      "   macro avg       0.21      0.21      0.20       203\n",
      "weighted avg       0.81      0.67      0.73       203\n",
      "\n"
     ]
    }
   ],
   "source": [
    "print(classification_report(y_test, knn.predict(X_test)))"
   ]
  },
  {
   "cell_type": "code",
   "execution_count": 204,
   "metadata": {},
   "outputs": [
    {
     "data": {
      "image/png": "[encoded data removed]",
      "text/plain": [
       "<Figure size 432x288 with 2 Axes>"
      ]
     },
     "metadata": {
      "needs_background": "light"
     },
     "output_type": "display_data"
    }
   ],
   "source": [
    "sns.heatmap(confusion_matrix(y_test, knn.predict(X_test)),\n",
    "            xticklabels=lr.classes_, yticklabels=lr.classes_);"
   ]
  },
  {
   "cell_type": "markdown",
   "metadata": {},
   "source": [
    "#### 4.1.3 Random Forest"
   ]
  },
  {
   "cell_type": "code",
   "execution_count": 205,
   "metadata": {},
   "outputs": [],
   "source": [
    "rf = RandomForestClassifier()\n",
    "gs = GridSearchCV(rf,\n",
    "                  param_grid = {\n",
    "                      'n_estimators': range(50, 210, 50),\n",
    "                      'max_depth': range(100, 1100, 300),                      \n",
    "                  })\n",
    "forest = gs.fit(X_train, y_train)"
   ]
  },
  {
   "cell_type": "code",
   "execution_count": 206,
   "metadata": {},
   "outputs": [
    {
     "name": "stdout",
     "output_type": "stream",
     "text": [
      "              precision    recall  f1-score   support\n",
      "\n",
      "           2       0.00      0.00      0.00         1\n",
      "           3       0.00      0.00      0.00        16\n",
      "           4       0.88      0.98      0.93       179\n",
      "           5       0.00      0.00      0.00         7\n",
      "\n",
      "    accuracy                           0.87       203\n",
      "   macro avg       0.22      0.25      0.23       203\n",
      "weighted avg       0.78      0.87      0.82       203\n",
      "\n"
     ]
    }
   ],
   "source": [
    "print(classification_report(y_test, forest.predict(X_test)))"
   ]
  },
  {
   "cell_type": "code",
   "execution_count": 207,
   "metadata": {},
   "outputs": [
    {
     "data": {
      "image/png": "[encoded data removed]",
      "text/plain": [
       "<Figure size 432x288 with 2 Axes>"
      ]
     },
     "metadata": {
      "needs_background": "light"
     },
     "output_type": "display_data"
    }
   ],
   "source": [
    "sns.heatmap(confusion_matrix(y_test, forest.predict(X_test)),\n",
    "            xticklabels=lr.classes_[1:], yticklabels=lr.classes_[1:]);"
   ]
  },
  {
   "cell_type": "markdown",
   "metadata": {},
   "source": [
    "TF-IDF признаки дают похожие результаты, однако все модели хуже справляются с определением малочисленных классов: так линейная классификация и Random Forest работают только на один класс, a KNN видит только два класс (as oposed to 3, как с BoW). Это довольно интересно, учитывая, что TF-IDF должен давать лучшие признаки, чем BoW..\n",
    "\n",
    "Однако в целом очень сложно делать какие-то выводы по таким данным, потому что их действительно очень мало, особенно для классификации. Еще хуже то, что они очень несбалансированны, поэтому и результаты очень biased. "
   ]
  },
  {
   "cell_type": "code",
   "execution_count": null,
   "metadata": {},
   "outputs": [],
   "source": []
  }
 ],
 "metadata": {
  "kernelspec": {
   "display_name": "Python 3",
   "language": "python",
   "name": "python3"
  },
  "language_info": {
   "codemirror_mode": {
    "name": "ipython",
    "version": 3
   },
   "file_extension": ".py",
   "mimetype": "text/x-python",
   "name": "python",
   "nbconvert_exporter": "python",
   "pygments_lexer": "ipython3",
   "version": "3.7.6"
  }
 },
 "nbformat": 4,
 "nbformat_minor": 4
}
